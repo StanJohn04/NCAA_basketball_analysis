{
 "cells": [
  {
   "cell_type": "code",
   "execution_count": 4,
   "id": "b83604b0",
   "metadata": {},
   "outputs": [],
   "source": [
    "from splinter import Browser\n",
    "from bs4 import BeautifulSoup as bs\n",
    "import pandas as pd\n",
    "import funcs\n",
    "import numpy as np"
   ]
  },
  {
   "cell_type": "code",
   "execution_count": 9,
   "id": "2c806f7b",
   "metadata": {},
   "outputs": [],
   "source": [
    "browser = Browser('chrome')\n",
    "\n",
    "url = 'https://www.teamrankings.com/ncb/team-stats/'\n",
    "browser.visit(url)"
   ]
  },
  {
   "cell_type": "code",
   "execution_count": 10,
   "id": "9b674fdd",
   "metadata": {},
   "outputs": [],
   "source": [
    "html = browser.html\n",
    "\n",
    "browser.quit()\n",
    "soup = bs(html)\n",
    "\n",
    "main = soup.find_all('main')\n",
    "\n",
    "main_list = main[0].find_all('a')\n",
    "main_list_text = [a.text for a in main_list]"
   ]
  },
  {
   "cell_type": "code",
   "execution_count": 11,
   "id": "88eaa7ae",
   "metadata": {},
   "outputs": [],
   "source": [
    "merged_df = pd.DataFrame()\n",
    "\n",
    "cat_list = [s for s in main_list_text if not s.endswith(' ')]"
   ]
  },
  {
   "cell_type": "code",
   "execution_count": 12,
   "id": "614c03aa",
   "metadata": {},
   "outputs": [],
   "source": [
    "cat_list = [cat.replace(' ','-') for cat in cat_list]"
   ]
  },
  {
   "cell_type": "code",
   "execution_count": 13,
   "id": "6558ab47",
   "metadata": {},
   "outputs": [
    {
     "data": {
      "text/plain": [
       "'Floor-%'"
      ]
     },
     "execution_count": 13,
     "metadata": {},
     "output_type": "execute_result"
    }
   ],
   "source": [
    "cat_list.pop(3)"
   ]
  },
  {
   "cell_type": "code",
   "execution_count": 14,
   "id": "7446c71b",
   "metadata": {},
   "outputs": [],
   "source": [
    "# manual add for categories that are different format\n",
    "cat_list.append('floor-percentage')"
   ]
  },
  {
   "cell_type": "code",
   "execution_count": 15,
   "id": "455c470a",
   "metadata": {},
   "outputs": [],
   "source": [
    "cat_list = [cat.replace('%','pct') for cat in cat_list]\n",
    "\n",
    "# pd.DataFrame(cat_list).to_csv(\"../Resources/categories.csv\")"
   ]
  },
  {
   "cell_type": "code",
   "execution_count": 3,
   "id": "bf6b820e",
   "metadata": {},
   "outputs": [],
   "source": [
    "# create a list of years to pass as arguement\n",
    "year_list = np.arange(1998,2024,1)"
   ]
  },
  {
   "cell_type": "code",
   "execution_count": 50,
   "id": "f0b6158a",
   "metadata": {},
   "outputs": [
    {
     "name": "stdout",
     "output_type": "stream",
     "text": [
      "Starting web scrape..\n",
      "Current Time: 22:08:10\n",
      "-----------------\n",
      "Category...win-pct-all-games\n",
      "-----------------\n",
      "Starting with year...1997\n",
      "Moving to year...1998\n",
      "Moving to year...1999\n",
      "Moving to year...2000\n",
      "Moving to year...2001\n",
      "Moving to year...2002\n",
      "Moving to year...2003\n",
      "Moving to year...2004\n",
      "Moving to year...2005\n",
      "Moving to year...2006\n",
      "Moving to year...2007\n",
      "Moving to year...2008\n",
      "Moving to year...2009\n",
      "Moving to year...2010\n",
      "Moving to year...2011\n",
      "Moving to year...2012\n",
      "Moving to year...2013\n",
      "Moving to year...2014\n",
      "Moving to year...2015\n",
      "Moving to year...2016\n",
      "Moving to year...2017\n",
      "Moving to year...2018\n",
      "Moving to year...2019\n",
      "Moving to year...2020\n",
      "Moving to year...2021\n",
      "Moving to year...2022\n",
      "-----------------\n",
      "Category...win-pct-close-games\n",
      "-----------------\n",
      "Starting with year...1997\n",
      "Moving to year...1998\n",
      "Moving to year...1999\n",
      "Moving to year...2000\n",
      "Moving to year...2001\n",
      "Moving to year...2002\n",
      "Moving to year...2003\n",
      "Moving to year...2004\n",
      "Moving to year...2005\n",
      "Moving to year...2006\n",
      "Moving to year...2007\n",
      "Moving to year...2008\n",
      "Moving to year...2009\n",
      "Moving to year...2010\n",
      "Moving to year...2011\n",
      "Moving to year...2012\n",
      "Moving to year...2013\n",
      "Moving to year...2014\n",
      "Moving to year...2015\n",
      "Moving to year...2016\n",
      "Moving to year...2017\n",
      "Moving to year...2018\n",
      "Moving to year...2019\n",
      "Moving to year...2020\n",
      "Moving to year...2021\n",
      "Moving to year...2022\n",
      "-----------------\n",
      "Category...opponent-win-pct-all-games\n",
      "-----------------\n",
      "Starting with year...1997\n",
      "Moving to year...1998\n",
      "Moving to year...1999\n",
      "Moving to year...2000\n",
      "Moving to year...2001\n",
      "Moving to year...2002\n",
      "Moving to year...2003\n",
      "Moving to year...2004\n",
      "Moving to year...2005\n",
      "Moving to year...2006\n",
      "Moving to year...2007\n",
      "Moving to year...2008\n",
      "Moving to year...2009\n",
      "Moving to year...2010\n",
      "Moving to year...2011\n",
      "Moving to year...2012\n",
      "Moving to year...2013\n",
      "Moving to year...2014\n",
      "Moving to year...2015\n",
      "Moving to year...2016\n",
      "Moving to year...2017\n",
      "Moving to year...2018\n",
      "Moving to year...2019\n",
      "Moving to year...2020\n",
      "Moving to year...2021\n",
      "Moving to year...2022\n",
      "-----------------\n",
      "Category...opponent-win-pct-close-games\n",
      "-----------------\n",
      "Starting with year...1997\n",
      "Moving to year...1998\n",
      "Moving to year...1999\n",
      "Moving to year...2000\n",
      "Moving to year...2001\n",
      "Moving to year...2002\n",
      "Moving to year...2003\n",
      "Moving to year...2004\n",
      "Moving to year...2005\n",
      "Moving to year...2006\n",
      "Moving to year...2007\n",
      "Moving to year...2008\n",
      "Moving to year...2009\n",
      "Moving to year...2010\n",
      "Moving to year...2011\n",
      "Moving to year...2012\n",
      "Moving to year...2013\n",
      "Moving to year...2014\n",
      "Moving to year...2015\n",
      "Moving to year...2016\n",
      "Moving to year...2017\n",
      "Moving to year...2018\n",
      "Moving to year...2019\n",
      "Moving to year...2020\n",
      "Moving to year...2021\n",
      "Moving to year...2022\n",
      "-----------------\n",
      "End Time: 22:12:41\n",
      "-----------------\n"
     ]
    },
    {
     "data": {
      "text/plain": [
       "'Web scrape complete...data saved to csv'"
      ]
     },
     "execution_count": 50,
     "metadata": {},
     "output_type": "execute_result"
    }
   ],
   "source": [
    "# funcs.get_teamranking_stats(year_list,cat_list,merged_df)"
   ]
  },
  {
   "cell_type": "code",
   "execution_count": 5,
   "id": "eb9c877d",
   "metadata": {},
   "outputs": [
    {
     "name": "stdout",
     "output_type": "stream",
     "text": [
      "Starting web scrape..\n",
      "Current Time: 13:17:59\n",
      "-----------------\n",
      "Category...win-pct-all-games\n",
      "-----------------\n",
      "Starting with year...1997\n",
      "Moving to year...1998\n",
      "Moving to year...1999\n",
      "-----------------\n",
      "Category...win-pct-close-games\n",
      "-----------------\n",
      "Starting with year...1997\n",
      "Moving to year...1998\n",
      "Moving to year...1999\n",
      "-----------------\n",
      "Category...opponent-win-pct-all-games\n",
      "-----------------\n",
      "Starting with year...1997\n",
      "Moving to year...1998\n",
      "Moving to year...1999\n",
      "-----------------\n",
      "Category...opponent-win-pct-close-games\n",
      "-----------------\n",
      "Starting with year...1997\n",
      "Moving to year...1998\n",
      "Moving to year...1999\n",
      "-----------------\n",
      "End Time: 13:18:30\n",
      "-----------------\n"
     ]
    },
    {
     "data": {
      "text/plain": [
       "'Web scrape complete...data saved to csv'"
      ]
     },
     "execution_count": 5,
     "metadata": {},
     "output_type": "execute_result"
    }
   ],
   "source": [
    "### call get_teamranking_stats again for extra categories\n",
    "# merged_df = pd.DataFrame()\n",
    "# year_list = np.arange(1998,20024,1)\n",
    "# cat_list = ['win-pct-all-games','win-pct-close-games','opponent-win-pct-all-games','opponent-win-pct-close-games']\n",
    "# funcs.get_teamranking_stats(year_list,cat_list,merged_df)"
   ]
  }
 ],
 "metadata": {
  "kernelspec": {
   "display_name": "Python [conda env:dev]",
   "language": "python",
   "name": "conda-env-dev-py"
  },
  "language_info": {
   "codemirror_mode": {
    "name": "ipython",
    "version": 3
   },
   "file_extension": ".py",
   "mimetype": "text/x-python",
   "name": "python",
   "nbconvert_exporter": "python",
   "pygments_lexer": "ipython3",
   "version": "3.10.11"
  }
 },
 "nbformat": 4,
 "nbformat_minor": 5
}
